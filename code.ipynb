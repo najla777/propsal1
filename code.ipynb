{
  "metadata": {
    "kernelspec": {
      "language": "python",
      "display_name": "Python 3",
      "name": "python3"
    },
    "language_info": {
      "name": "python",
      "version": "3.7.12",
      "mimetype": "text/x-python",
      "codemirror_mode": {
        "name": "ipython",
        "version": 3
      },
      "pygments_lexer": "ipython3",
      "nbconvert_exporter": "python",
      "file_extension": ".py"
    },
    "colab": {
      "name": "Copie de Code delivery",
      "provenance": [],
      "collapsed_sections": []
    }
  },
  "nbformat_minor": 0,
  "nbformat": 4,
  "cells": [
    {
      "cell_type": "markdown",
      "source": [
        "# Data prepration."
      ],
      "metadata": {
        "id": "lR2otBq2aOAJ"
      }
    },
    {
      "cell_type": "code",
      "source": [
        "from sklearn.metrics import precision_score, recall_score, classification_report\n",
        "import string\n",
        "from nltk.corpus import stopwords\n",
        "import nltk\n",
        "import re\n",
        "nltk.download('stopwords')\n",
        "from sklearn.feature_extraction.text import CountVectorizer, TfidfVectorizer\n",
        "import matplotlib.pyplot as plt\n",
        "from sklearn.model_selection import train_test_split\n",
        "from sklearn.ensemble import AdaBoostClassifier\n",
        "from sklearn.linear_model import LogisticRegression\n",
        "from sklearn.model_selection import cross_val_score\n",
        "import numpy as np\n",
        "from sklearn.ensemble import RandomForestClassifier\n",
        "from sklearn.metrics import plot_confusion_matrix\n",
        "import pandas as pd"
      ],
      "metadata": {
        "colab": {
          "base_uri": "https://localhost:8080/"
        },
        "id": "qzgN1Hqbvp_e",
        "outputId": "8510bd45-42bf-49ab-9c4d-b35c98aba410"
      },
      "execution_count": null,
      "outputs": [
        {
          "output_type": "stream",
          "name": "stdout",
          "text": [
            "[nltk_data] Downloading package stopwords to /root/nltk_data...\n",
            "[nltk_data]   Package stopwords is already up-to-date!\n"
          ]
        }
      ]
    },
    {
      "cell_type": "markdown",
      "source": [
        "### Data loading."
      ],
      "metadata": {
        "id": "UTbcB2oCa-_u"
      }
    },
    {
      "cell_type": "code",
      "source": [
        "\"\"\"\n",
        "We will start by reading the data using pandas librarie\n",
        "\"\"\"\n",
        "data = pd.read_csv('Tweets.csv')"
      ],
      "metadata": {
        "id": "3u2sjy-QaOQL"
      },
      "execution_count": null,
      "outputs": []
    },
    {
      "cell_type": "markdown",
      "source": [
        "A first step to take a look at the data by showing the 3 first rows of it."
      ],
      "metadata": {
        "id": "l87iuf2Uqw6I"
      }
    },
    {
      "cell_type": "code",
      "source": [
        "data.head(3)"
      ],
      "metadata": {
        "execution": {
          "iopub.status.busy": "2021-12-09T13:07:57.149740Z",
          "iopub.execute_input": "2021-12-09T13:07:57.150599Z",
          "iopub.status.idle": "2021-12-09T13:07:57.174549Z",
          "shell.execute_reply.started": "2021-12-09T13:07:57.150562Z",
          "shell.execute_reply": "2021-12-09T13:07:57.173981Z"
        },
        "trusted": true,
        "colab": {
          "base_uri": "https://localhost:8080/",
          "height": 302
        },
        "id": "DP_RyPqbqw6J",
        "outputId": "5e7b6f42-5ea9-4387-8973-236b6849a6f7"
      },
      "execution_count": null,
      "outputs": [
        {
          "output_type": "execute_result",
          "data": {
            "text/html": [
              "<div>\n",
              "<style scoped>\n",
              "    .dataframe tbody tr th:only-of-type {\n",
              "        vertical-align: middle;\n",
              "    }\n",
              "\n",
              "    .dataframe tbody tr th {\n",
              "        vertical-align: top;\n",
              "    }\n",
              "\n",
              "    .dataframe thead th {\n",
              "        text-align: right;\n",
              "    }\n",
              "</style>\n",
              "<table border=\"1\" class=\"dataframe\">\n",
              "  <thead>\n",
              "    <tr style=\"text-align: right;\">\n",
              "      <th></th>\n",
              "      <th>tweet_id</th>\n",
              "      <th>airline_sentiment</th>\n",
              "      <th>airline_sentiment_confidence</th>\n",
              "      <th>negativereason</th>\n",
              "      <th>negativereason_confidence</th>\n",
              "      <th>airline</th>\n",
              "      <th>airline_sentiment_gold</th>\n",
              "      <th>name</th>\n",
              "      <th>negativereason_gold</th>\n",
              "      <th>retweet_count</th>\n",
              "      <th>text</th>\n",
              "      <th>tweet_coord</th>\n",
              "      <th>tweet_created</th>\n",
              "      <th>tweet_location</th>\n",
              "      <th>user_timezone</th>\n",
              "    </tr>\n",
              "  </thead>\n",
              "  <tbody>\n",
              "    <tr>\n",
              "      <th>0</th>\n",
              "      <td>570306133677760513</td>\n",
              "      <td>neutral</td>\n",
              "      <td>1.0000</td>\n",
              "      <td>NaN</td>\n",
              "      <td>NaN</td>\n",
              "      <td>Virgin America</td>\n",
              "      <td>NaN</td>\n",
              "      <td>cairdin</td>\n",
              "      <td>NaN</td>\n",
              "      <td>0</td>\n",
              "      <td>@VirginAmerica What @dhepburn said.</td>\n",
              "      <td>NaN</td>\n",
              "      <td>2015-02-24 11:35:52 -0800</td>\n",
              "      <td>NaN</td>\n",
              "      <td>Eastern Time (US &amp; Canada)</td>\n",
              "    </tr>\n",
              "    <tr>\n",
              "      <th>1</th>\n",
              "      <td>570301130888122368</td>\n",
              "      <td>positive</td>\n",
              "      <td>0.3486</td>\n",
              "      <td>NaN</td>\n",
              "      <td>0.0</td>\n",
              "      <td>Virgin America</td>\n",
              "      <td>NaN</td>\n",
              "      <td>jnardino</td>\n",
              "      <td>NaN</td>\n",
              "      <td>0</td>\n",
              "      <td>@VirginAmerica plus you've added commercials t...</td>\n",
              "      <td>NaN</td>\n",
              "      <td>2015-02-24 11:15:59 -0800</td>\n",
              "      <td>NaN</td>\n",
              "      <td>Pacific Time (US &amp; Canada)</td>\n",
              "    </tr>\n",
              "    <tr>\n",
              "      <th>2</th>\n",
              "      <td>570301083672813571</td>\n",
              "      <td>neutral</td>\n",
              "      <td>0.6837</td>\n",
              "      <td>NaN</td>\n",
              "      <td>NaN</td>\n",
              "      <td>Virgin America</td>\n",
              "      <td>NaN</td>\n",
              "      <td>yvonnalynn</td>\n",
              "      <td>NaN</td>\n",
              "      <td>0</td>\n",
              "      <td>@VirginAmerica I didn't today... Must mean I n...</td>\n",
              "      <td>NaN</td>\n",
              "      <td>2015-02-24 11:15:48 -0800</td>\n",
              "      <td>Lets Play</td>\n",
              "      <td>Central Time (US &amp; Canada)</td>\n",
              "    </tr>\n",
              "  </tbody>\n",
              "</table>\n",
              "</div>"
            ],
            "text/plain": [
              "             tweet_id  ...               user_timezone\n",
              "0  570306133677760513  ...  Eastern Time (US & Canada)\n",
              "1  570301130888122368  ...  Pacific Time (US & Canada)\n",
              "2  570301083672813571  ...  Central Time (US & Canada)\n",
              "\n",
              "[3 rows x 15 columns]"
            ]
          },
          "metadata": {},
          "execution_count": 3
        }
      ]
    },
    {
      "cell_type": "code",
      "source": [
        "print('we have {} data points'.format(data.shape[0]))"
      ],
      "metadata": {
        "colab": {
          "base_uri": "https://localhost:8080/"
        },
        "id": "jZLDiJKLzY2H",
        "outputId": "9b623a41-80a6-44e5-d6ee-d05d9c4ee635"
      },
      "execution_count": null,
      "outputs": [
        {
          "output_type": "stream",
          "name": "stdout",
          "text": [
            "we have 14640 data points\n"
          ]
        }
      ]
    },
    {
      "cell_type": "markdown",
      "source": [
        "### Data Analysis."
      ],
      "metadata": {
        "id": "O8Xajyside-3"
      }
    },
    {
      "cell_type": "markdown",
      "source": [
        "#### Sentiments frequency."
      ],
      "metadata": {
        "id": "_UyFO7Wfedi2"
      }
    },
    {
      "cell_type": "markdown",
      "source": [
        "So each tweet is defined by a set of features the most of them are just Identifiers which we will not use as  client senetiment will be expressed in **text** column. Also the real sentiment is given in **airline_sentiment** which will be our target (label)."
      ],
      "metadata": {
        "id": "YpUiThMhqw6K"
      }
    },
    {
      "cell_type": "code",
      "source": [
        "import seaborn as sns\n",
        "sns.countplot(x = \"airline_sentiment\", data = data)"
      ],
      "metadata": {
        "execution": {
          "iopub.status.busy": "2021-12-09T13:07:57.175441Z",
          "iopub.execute_input": "2021-12-09T13:07:57.176161Z",
          "iopub.status.idle": "2021-12-09T13:07:58.339810Z",
          "shell.execute_reply.started": "2021-12-09T13:07:57.176125Z",
          "shell.execute_reply": "2021-12-09T13:07:58.338996Z"
        },
        "trusted": true,
        "colab": {
          "base_uri": "https://localhost:8080/",
          "height": 297
        },
        "id": "WsR36dxdqw6L",
        "outputId": "d3354080-1ffd-4eb6-ea62-0305dd5ad4da"
      },
      "execution_count": null,
      "outputs": [
        {
          "output_type": "execute_result",
          "data": {
            "text/plain": [
              "<matplotlib.axes._subplots.AxesSubplot at 0x7f4536f46750>"
            ]
          },
          "metadata": {},
          "execution_count": 5
        },
        {
          "output_type": "display_data",
          "data": {
            "image/png": "[encoded data removed]",
            "text/plain": [
              "<Figure size 432x288 with 1 Axes>"
            ]
          },
          "metadata": {
            "needs_background": "light"
          }
        }
      ]
    },
    {
      "cell_type": "markdown",
      "source": [
        "By counting the number of sentiments for each class we can conclude that tweets with negative sentiments are more frequent. Therefore, a first finding will be that Machine learning models that we will build will likely predict negative sentiments with more accuracy. It will be a good point because companies care more about negative reviews in order to improve their services."
      ],
      "metadata": {
        "id": "eDjpH_d8qw6M"
      }
    },
    {
      "cell_type": "markdown",
      "source": [
        "#### Tweets frequency by Companies"
      ],
      "metadata": {
        "id": "ha4PDNj6gamE"
      }
    },
    {
      "cell_type": "code",
      "source": [
        "ax = sns.countplot(x=\"airline\", data=data)"
      ],
      "metadata": {
        "colab": {
          "base_uri": "https://localhost:8080/",
          "height": 283
        },
        "id": "2IrnpYVZgavN",
        "outputId": "7e079d4a-5e98-4cf4-f42a-76a2162dbb4a"
      },
      "execution_count": null,
      "outputs": [
        {
          "output_type": "display_data",
          "data": {
            "image/png": "[encoded data removed]",
            "text/plain": [
              "<Figure size 432x288 with 1 Axes>"
            ]
          },
          "metadata": {
            "needs_background": "light"
          }
        }
      ]
    },
    {
      "cell_type": "markdown",
      "source": [
        "From the above plot we can observe that United has the most number of flights and Virgin America has the least."
      ],
      "metadata": {
        "id": "sxMFfNbZg_PE"
      }
    },
    {
      "cell_type": "markdown",
      "source": [
        "### Data cleaning"
      ],
      "metadata": {
        "id": "1JfP1PK4hQqW"
      }
    },
    {
      "cell_type": "markdown",
      "source": [
        "In this section we will clean the data by removing unusefull features for our problem and clean the tweets."
      ],
      "metadata": {
        "id": "3uIwWvTkhdWd"
      }
    },
    {
      "cell_type": "code",
      "source": [
        "\"\"\"\n",
        "We will keep just tweets text with its sentiment\n",
        "\"\"\"\n",
        "data = data.drop(['tweet_id', 'airline_sentiment_confidence','negativereason', 'negativereason_confidence', 'airline',\n",
        "       'airline_sentiment_gold', 'name', 'negativereason_gold','retweet_count', 'tweet_coord', 'tweet_created','tweet_location',\n",
        "                        'user_timezone']\n",
        "                       , axis = 1)\n",
        "data.head()"
      ],
      "metadata": {
        "execution": {
          "iopub.status.busy": "2021-12-09T13:07:58.341426Z",
          "iopub.execute_input": "2021-12-09T13:07:58.341647Z",
          "iopub.status.idle": "2021-12-09T13:07:58.353190Z",
          "shell.execute_reply.started": "2021-12-09T13:07:58.341620Z",
          "shell.execute_reply": "2021-12-09T13:07:58.352652Z"
        },
        "trusted": true,
        "colab": {
          "base_uri": "https://localhost:8080/",
          "height": 206
        },
        "id": "IZYmDeXDqw6N",
        "outputId": "3e7a713c-bbe7-48b5-9834-4a3192e79f13"
      },
      "execution_count": null,
      "outputs": [
        {
          "output_type": "execute_result",
          "data": {
            "text/html": [
              "<div>\n",
              "<style scoped>\n",
              "    .dataframe tbody tr th:only-of-type {\n",
              "        vertical-align: middle;\n",
              "    }\n",
              "\n",
              "    .dataframe tbody tr th {\n",
              "        vertical-align: top;\n",
              "    }\n",
              "\n",
              "    .dataframe thead th {\n",
              "        text-align: right;\n",
              "    }\n",
              "</style>\n",
              "<table border=\"1\" class=\"dataframe\">\n",
              "  <thead>\n",
              "    <tr style=\"text-align: right;\">\n",
              "      <th></th>\n",
              "      <th>airline_sentiment</th>\n",
              "      <th>text</th>\n",
              "    </tr>\n",
              "  </thead>\n",
              "  <tbody>\n",
              "    <tr>\n",
              "      <th>0</th>\n",
              "      <td>neutral</td>\n",
              "      <td>@VirginAmerica What @dhepburn said.</td>\n",
              "    </tr>\n",
              "    <tr>\n",
              "      <th>1</th>\n",
              "      <td>positive</td>\n",
              "      <td>@VirginAmerica plus you've added commercials t...</td>\n",
              "    </tr>\n",
              "    <tr>\n",
              "      <th>2</th>\n",
              "      <td>neutral</td>\n",
              "      <td>@VirginAmerica I didn't today... Must mean I n...</td>\n",
              "    </tr>\n",
              "    <tr>\n",
              "      <th>3</th>\n",
              "      <td>negative</td>\n",
              "      <td>@VirginAmerica it's really aggressive to blast...</td>\n",
              "    </tr>\n",
              "    <tr>\n",
              "      <th>4</th>\n",
              "      <td>negative</td>\n",
              "      <td>@VirginAmerica and it's a really big bad thing...</td>\n",
              "    </tr>\n",
              "  </tbody>\n",
              "</table>\n",
              "</div>"
            ],
            "text/plain": [
              "  airline_sentiment                                               text\n",
              "0           neutral                @VirginAmerica What @dhepburn said.\n",
              "1          positive  @VirginAmerica plus you've added commercials t...\n",
              "2           neutral  @VirginAmerica I didn't today... Must mean I n...\n",
              "3          negative  @VirginAmerica it's really aggressive to blast...\n",
              "4          negative  @VirginAmerica and it's a really big bad thing..."
            ]
          },
          "metadata": {},
          "execution_count": 7
        }
      ]
    },
    {
      "cell_type": "markdown",
      "source": [
        "Our input feature will be tweet text but it need some processing steps so first we will do tokenizing the tweet and also taking tokens from second index onwards as initital to gives airline name and '@' and lowering them and later making it back a sentence."
      ],
      "metadata": {
        "id": "ANAdu7Vhh_fP"
      }
    },
    {
      "cell_type": "code",
      "source": [
        "def clean_the_tweet(text):\n",
        "  tokens= nltk.word_tokenize(re.sub(\"[^a-zA-Z]\", \" \",text))\n",
        "  tokens = [token.lower() for token in tokens]\n",
        "  return ' '.join(tokens[2:])\n",
        "def text_process(msg):\n",
        "  nopunc =[char for char in msg if char not in string.punctuation]\n",
        "  nopunc=''.join(nopunc)\n",
        "  return ' '.join([word for word in nopunc.split() if word.lower() not in stopwords.words('english')])"
      ],
      "metadata": {
        "id": "1CYEZigmuB_t"
      },
      "execution_count": null,
      "outputs": []
    },
    {
      "cell_type": "markdown",
      "source": [
        "First we will remove neutral tweets"
      ],
      "metadata": {
        "id": "CNsdh9WUvz_W"
      }
    },
    {
      "cell_type": "code",
      "source": [
        "nltk.download('punkt')"
      ],
      "metadata": {
        "colab": {
          "base_uri": "https://localhost:8080/"
        },
        "id": "hxFmokKXwlvS",
        "outputId": "80da5912-167f-4531-c3ce-2193476530d8"
      },
      "execution_count": null,
      "outputs": [
        {
          "output_type": "stream",
          "name": "stdout",
          "text": [
            "[nltk_data] Downloading package punkt to /root/nltk_data...\n",
            "[nltk_data]   Unzipping tokenizers/punkt.zip.\n"
          ]
        },
        {
          "output_type": "execute_result",
          "data": {
            "text/plain": [
              "True"
            ]
          },
          "metadata": {},
          "execution_count": 9
        }
      ]
    },
    {
      "cell_type": "code",
      "source": [
        "data = data[data['airline_sentiment']!='neutral']\n",
        "data['cleaned_tweet'] = data['text'].apply(clean_the_tweet)\n",
        "\n",
        "data.head()\n",
        "data['airline_sentiment'] = data['airline_sentiment'].apply(lambda x: 1 if x =='positive' else 0)\n",
        "data.head()"
      ],
      "metadata": {
        "colab": {
          "base_uri": "https://localhost:8080/",
          "height": 206
        },
        "id": "-N_XnIvduCDf",
        "outputId": "49268baa-a359-47a0-b3e5-53dccb1b961a"
      },
      "execution_count": null,
      "outputs": [
        {
          "output_type": "execute_result",
          "data": {
            "text/html": [
              "<div>\n",
              "<style scoped>\n",
              "    .dataframe tbody tr th:only-of-type {\n",
              "        vertical-align: middle;\n",
              "    }\n",
              "\n",
              "    .dataframe tbody tr th {\n",
              "        vertical-align: top;\n",
              "    }\n",
              "\n",
              "    .dataframe thead th {\n",
              "        text-align: right;\n",
              "    }\n",
              "</style>\n",
              "<table border=\"1\" class=\"dataframe\">\n",
              "  <thead>\n",
              "    <tr style=\"text-align: right;\">\n",
              "      <th></th>\n",
              "      <th>airline_sentiment</th>\n",
              "      <th>text</th>\n",
              "      <th>cleaned_tweet</th>\n",
              "    </tr>\n",
              "  </thead>\n",
              "  <tbody>\n",
              "    <tr>\n",
              "      <th>1</th>\n",
              "      <td>1</td>\n",
              "      <td>@VirginAmerica plus you've added commercials t...</td>\n",
              "      <td>you ve added commercials to the experience tacky</td>\n",
              "    </tr>\n",
              "    <tr>\n",
              "      <th>3</th>\n",
              "      <td>0</td>\n",
              "      <td>@VirginAmerica it's really aggressive to blast...</td>\n",
              "      <td>s really aggressive to blast obnoxious enterta...</td>\n",
              "    </tr>\n",
              "    <tr>\n",
              "      <th>4</th>\n",
              "      <td>0</td>\n",
              "      <td>@VirginAmerica and it's a really big bad thing...</td>\n",
              "      <td>it s a really big bad thing about it</td>\n",
              "    </tr>\n",
              "    <tr>\n",
              "      <th>5</th>\n",
              "      <td>0</td>\n",
              "      <td>@VirginAmerica seriously would pay $30 a fligh...</td>\n",
              "      <td>would pay a flight for seats that didn t have ...</td>\n",
              "    </tr>\n",
              "    <tr>\n",
              "      <th>6</th>\n",
              "      <td>1</td>\n",
              "      <td>@VirginAmerica yes, nearly every time I fly VX...</td>\n",
              "      <td>nearly every time i fly vx this ear worm won t...</td>\n",
              "    </tr>\n",
              "  </tbody>\n",
              "</table>\n",
              "</div>"
            ],
            "text/plain": [
              "   airline_sentiment  ...                                      cleaned_tweet\n",
              "1                  1  ...   you ve added commercials to the experience tacky\n",
              "3                  0  ...  s really aggressive to blast obnoxious enterta...\n",
              "4                  0  ...               it s a really big bad thing about it\n",
              "5                  0  ...  would pay a flight for seats that didn t have ...\n",
              "6                  1  ...  nearly every time i fly vx this ear worm won t...\n",
              "\n",
              "[5 rows x 3 columns]"
            ]
          },
          "metadata": {},
          "execution_count": 12
        }
      ]
    },
    {
      "cell_type": "markdown",
      "source": [
        "Then we will Clean the tweets from punctuation marks"
      ],
      "metadata": {
        "id": "EHfDBSeRwqq6"
      }
    },
    {
      "cell_type": "code",
      "source": [
        "data['cleaned_tweet'] = data['cleaned_tweet'].apply(text_process)\n",
        "data.reset_index(drop=True, inplace = True)\n",
        "data.head()"
      ],
      "metadata": {
        "colab": {
          "base_uri": "https://localhost:8080/",
          "height": 206
        },
        "id": "uJwFZJUauCGp",
        "outputId": "9c508aab-7746-4905-9e2a-c6ce1ee135bc"
      },
      "execution_count": null,
      "outputs": [
        {
          "output_type": "execute_result",
          "data": {
            "text/html": [
              "<div>\n",
              "<style scoped>\n",
              "    .dataframe tbody tr th:only-of-type {\n",
              "        vertical-align: middle;\n",
              "    }\n",
              "\n",
              "    .dataframe tbody tr th {\n",
              "        vertical-align: top;\n",
              "    }\n",
              "\n",
              "    .dataframe thead th {\n",
              "        text-align: right;\n",
              "    }\n",
              "</style>\n",
              "<table border=\"1\" class=\"dataframe\">\n",
              "  <thead>\n",
              "    <tr style=\"text-align: right;\">\n",
              "      <th></th>\n",
              "      <th>airline_sentiment</th>\n",
              "      <th>text</th>\n",
              "      <th>cleaned_tweet</th>\n",
              "    </tr>\n",
              "  </thead>\n",
              "  <tbody>\n",
              "    <tr>\n",
              "      <th>0</th>\n",
              "      <td>1</td>\n",
              "      <td>@VirginAmerica plus you've added commercials t...</td>\n",
              "      <td>added commercials experience tacky</td>\n",
              "    </tr>\n",
              "    <tr>\n",
              "      <th>1</th>\n",
              "      <td>0</td>\n",
              "      <td>@VirginAmerica it's really aggressive to blast...</td>\n",
              "      <td>really aggressive blast obnoxious entertainmen...</td>\n",
              "    </tr>\n",
              "    <tr>\n",
              "      <th>2</th>\n",
              "      <td>0</td>\n",
              "      <td>@VirginAmerica and it's a really big bad thing...</td>\n",
              "      <td>really big bad thing</td>\n",
              "    </tr>\n",
              "    <tr>\n",
              "      <th>3</th>\n",
              "      <td>0</td>\n",
              "      <td>@VirginAmerica seriously would pay $30 a fligh...</td>\n",
              "      <td>would pay flight seats playing really bad thin...</td>\n",
              "    </tr>\n",
              "    <tr>\n",
              "      <th>4</th>\n",
              "      <td>1</td>\n",
              "      <td>@VirginAmerica yes, nearly every time I fly VX...</td>\n",
              "      <td>nearly every time fly vx ear worm go away</td>\n",
              "    </tr>\n",
              "  </tbody>\n",
              "</table>\n",
              "</div>"
            ],
            "text/plain": [
              "   airline_sentiment  ...                                      cleaned_tweet\n",
              "0                  1  ...                 added commercials experience tacky\n",
              "1                  0  ...  really aggressive blast obnoxious entertainmen...\n",
              "2                  0  ...                               really big bad thing\n",
              "3                  0  ...  would pay flight seats playing really bad thin...\n",
              "4                  1  ...          nearly every time fly vx ear worm go away\n",
              "\n",
              "[5 rows x 3 columns]"
            ]
          },
          "metadata": {},
          "execution_count": 13
        }
      ]
    },
    {
      "cell_type": "markdown",
      "source": [
        "### Text encoding\n",
        "As Machine learning models work just with numerical values, we will encode our text tweets using TF-IDF vectorizer."
      ],
      "metadata": {
        "id": "EafddmyZyTLg"
      }
    },
    {
      "cell_type": "code",
      "source": [
        "vectorizer = TfidfVectorizer(use_idf=True, lowercase=True)\n",
        "X_tf_idf= vectorizer.fit_transform(data.cleaned_tweet)\n",
        "x_train, x_test, y_train, y_test = train_test_split(X_tf_idf, data['airline_sentiment'], random_state=42)"
      ],
      "metadata": {
        "id": "XXwOXE9LuCJu"
      },
      "execution_count": null,
      "outputs": []
    },
    {
      "cell_type": "markdown",
      "source": [
        "# Machine learning Models\n",
        "In this section we will build 3 machine learning models : Random Forest, KNN, Logistic Regression and Adabtive bosting. We will train each model on our tweets data, the we will compare the performances in order to choose the best one. And as we will follow the same steps for each model (train/test/evaluate) we will define a common function for this purpose."
      ],
      "metadata": {
        "id": "JgDyGkdLUtMg"
      }
    },
    {
      "cell_type": "code",
      "source": [
        "def train_evaluate(machine_learning_model, X_train,X_test,y_train,y_test):\n",
        "  model = machine_learning_model.fit(X_train,y_train)\n",
        "  predictions = model.predict(X_test)\n",
        "  print('Confusion matrix is: \\n',)\n",
        "  plot_confusion_matrix(model, X_test, y_test) \n",
        "  plt.show() \n",
        "  print('Classification Report \\n',)\n",
        "  print(classification_report(predictions,y_test))\n",
        "  return recall_score(predictions,y_test), precision_score(predictions,y_test)"
      ],
      "metadata": {
        "id": "ybGWHfkhuCNN"
      },
      "execution_count": null,
      "outputs": []
    },
    {
      "cell_type": "markdown",
      "source": [
        "### Logistic Regression"
      ],
      "metadata": {
        "id": "AmM_nXAYY2Yl"
      }
    },
    {
      "cell_type": "code",
      "source": [
        "recall_LR,precision_LR = train_evaluate(LogisticRegression(),x_train,x_test,y_train,y_test)"
      ],
      "metadata": {
        "colab": {
          "base_uri": "https://localhost:8080/",
          "height": 560
        },
        "id": "Lu3Yp5E1uCQy",
        "outputId": "d2fde29e-553c-4356-9419-c188eed03658"
      },
      "execution_count": null,
      "outputs": [
        {
          "output_type": "stream",
          "name": "stdout",
          "text": [
            "Confusion matrix is: \n",
            "\n"
          ]
        },
        {
          "output_type": "stream",
          "name": "stderr",
          "text": [
            "/usr/local/lib/python3.7/dist-packages/sklearn/utils/deprecation.py:87: FutureWarning: Function plot_confusion_matrix is deprecated; Function `plot_confusion_matrix` is deprecated in 1.0 and will be removed in 1.2. Use one of the class methods: ConfusionMatrixDisplay.from_predictions or ConfusionMatrixDisplay.from_estimator.\n",
            "  warnings.warn(msg, category=FutureWarning)\n"
          ]
        },
        {
          "output_type": "display_data",
          "data": {
            "image/png": "[encoded data removed]",
            "text/plain": [
              "<Figure size 432x288 with 2 Axes>"
            ]
          },
          "metadata": {
            "needs_background": "light"
          }
        },
        {
          "output_type": "stream",
          "name": "stdout",
          "text": [
            "Classification Report \n",
            "\n",
            "              precision    recall  f1-score   support\n",
            "\n",
            "           0       0.99      0.87      0.93      2626\n",
            "           1       0.41      0.89      0.56       260\n",
            "\n",
            "    accuracy                           0.88      2886\n",
            "   macro avg       0.70      0.88      0.75      2886\n",
            "weighted avg       0.94      0.88      0.89      2886\n",
            "\n"
          ]
        }
      ]
    },
    {
      "cell_type": "markdown",
      "source": [
        "### Random Forest"
      ],
      "metadata": {
        "id": "NoCrCu2CbVWc"
      }
    },
    {
      "cell_type": "code",
      "source": [
        "recall_RF,precision_RF = train_evaluate(RandomForestClassifier(),x_train,x_test,y_train,y_test)"
      ],
      "metadata": {
        "colab": {
          "base_uri": "https://localhost:8080/",
          "height": 560
        },
        "id": "o9dhDCsKbXek",
        "outputId": "d6a8bfc5-9956-45cd-f25f-8a7960a2f1b0"
      },
      "execution_count": null,
      "outputs": [
        {
          "output_type": "stream",
          "name": "stdout",
          "text": [
            "Confusion matrix is: \n",
            "\n"
          ]
        },
        {
          "output_type": "stream",
          "name": "stderr",
          "text": [
            "/usr/local/lib/python3.7/dist-packages/sklearn/utils/deprecation.py:87: FutureWarning: Function plot_confusion_matrix is deprecated; Function `plot_confusion_matrix` is deprecated in 1.0 and will be removed in 1.2. Use one of the class methods: ConfusionMatrixDisplay.from_predictions or ConfusionMatrixDisplay.from_estimator.\n",
            "  warnings.warn(msg, category=FutureWarning)\n"
          ]
        },
        {
          "output_type": "display_data",
          "data": {
            "image/png": "[encoded data removed]",
            "text/plain": [
              "<Figure size 432x288 with 2 Axes>"
            ]
          },
          "metadata": {
            "needs_background": "light"
          }
        },
        {
          "output_type": "stream",
          "name": "stdout",
          "text": [
            "Classification Report \n",
            "\n",
            "              precision    recall  f1-score   support\n",
            "\n",
            "           0       0.96      0.90      0.93      2470\n",
            "           1       0.56      0.75      0.64       416\n",
            "\n",
            "    accuracy                           0.88      2886\n",
            "   macro avg       0.76      0.83      0.78      2886\n",
            "weighted avg       0.90      0.88      0.89      2886\n",
            "\n"
          ]
        }
      ]
    },
    {
      "cell_type": "markdown",
      "source": [
        "### Adabtive boosting"
      ],
      "metadata": {
        "id": "Y6_coRVscaVS"
      }
    },
    {
      "cell_type": "code",
      "source": [
        "recall_ABC,precision_ABC = train_evaluate(AdaBoostClassifier(),x_train,x_test,y_train,y_test)"
      ],
      "metadata": {
        "colab": {
          "base_uri": "https://localhost:8080/",
          "height": 563
        },
        "id": "lOz0AC0ecdBw",
        "outputId": "b90aab1d-3cf3-4459-d0df-c34c7b901158"
      },
      "execution_count": null,
      "outputs": [
        {
          "output_type": "stream",
          "name": "stdout",
          "text": [
            "Confusion matrix is: \n",
            "\n"
          ]
        },
        {
          "output_type": "stream",
          "name": "stderr",
          "text": [
            "/usr/local/lib/python3.7/dist-packages/sklearn/utils/deprecation.py:87: FutureWarning: Function plot_confusion_matrix is deprecated; Function `plot_confusion_matrix` is deprecated in 1.0 and will be removed in 1.2. Use one of the class methods: ConfusionMatrixDisplay.from_predictions or ConfusionMatrixDisplay.from_estimator.\n",
            "  warnings.warn(msg, category=FutureWarning)\n"
          ]
        },
        {
          "output_type": "display_data",
          "data": {
            "image/png": "[encoded data removed]",
            "text/plain": [
              "<Figure size 432x288 with 2 Axes>"
            ]
          },
          "metadata": {
            "needs_background": "light"
          }
        },
        {
          "output_type": "stream",
          "name": "stdout",
          "text": [
            "Classification Report \n",
            "\n",
            "              precision    recall  f1-score   support\n",
            "\n",
            "           0       0.97      0.87      0.92      2579\n",
            "           1       0.42      0.77      0.54       307\n",
            "\n",
            "    accuracy                           0.86      2886\n",
            "   macro avg       0.69      0.82      0.73      2886\n",
            "weighted avg       0.91      0.86      0.88      2886\n",
            "\n"
          ]
        }
      ]
    },
    {
      "cell_type": "markdown",
      "source": [
        "### Best Model"
      ],
      "metadata": {
        "id": "HR7klx7ugtXT"
      }
    },
    {
      "cell_type": "code",
      "source": [
        "models = ['Logistic Regression','Random Forest','Adabtive boosting']\n",
        "pre = [precision_LR,precision_RF,precision_ABC]\n",
        "rec = [recall_LR,recall_RF,recall_ABC]\n",
        "plt.figure(figsize=(8,8))\n",
        "plt.bar(models,rec,label='Recall score')\n",
        "plt.bar(models,pre,label='Precision score')\n",
        "plt.ylabel('Precision/Recall')\n",
        "plt.legend()\n",
        "plt.show()"
      ],
      "metadata": {
        "colab": {
          "base_uri": "https://localhost:8080/",
          "height": 483
        },
        "id": "RZAgY751gw3Y",
        "outputId": "b2b9afa3-8594-4155-d62d-0f2a429ecdaa"
      },
      "execution_count": null,
      "outputs": [
        {
          "output_type": "display_data",
          "data": {
            "image/png": "[encoded data removed]",
            "text/plain": [
              "<Figure size 576x576 with 1 Axes>"
            ]
          },
          "metadata": {
            "needs_background": "light"
          }
        }
      ]
    },
    {
      "cell_type": "markdown",
      "source": [
        "* Logistic regression gives a high recall with high precision of random forest."
      ],
      "metadata": {
        "id": "DaiCOCfZjryL"
      }
    }
  ]
}